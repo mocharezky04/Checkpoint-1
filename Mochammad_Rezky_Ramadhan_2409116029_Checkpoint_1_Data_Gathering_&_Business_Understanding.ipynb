{
  "nbformat": 4,
  "nbformat_minor": 0,
  "metadata": {
    "colab": {
      "provenance": []
    },
    "kernelspec": {
      "name": "python3",
      "display_name": "Python 3"
    },
    "language_info": {
      "name": "python"
    }
  },
  "cells": [
    {
      "cell_type": "markdown",
      "source": [
        "# **Business Understanding**"
      ],
      "metadata": {
        "id": "p2xliqm0y4Eb"
      }
    },
    {
      "cell_type": "markdown",
      "source": [
        "## **Business Objective (Tujuan Bisnis)**"
      ],
      "metadata": {
        "id": "XB9ZfP56zAc8"
      }
    },
    {
      "cell_type": "markdown",
      "source": [
        "Tujuan utama proyek ini adalah untuk memahami perilaku pelanggan dalam pembelian monitor di Amazon guna mendukung inovasi dan pengembangan strategi pemasaran yang lebih efektif. Hal ini mencakup identifikasi faktor-faktor yang mempengaruhi keputusan pembelian, seperti harga, rating, jumlah ulasan, dan merek monitor. Dengan analisis ini, diharapkan dapat memberikan wawasan bagi produsen dan penjual dalam mengoptimalkan produk mereka sesuai dengan kebutuhan pasar serta meningkatkan kepuasan pelanggan."
      ],
      "metadata": {
        "id": "WAgYy9YYzKDE"
      }
    },
    {
      "cell_type": "markdown",
      "source": [
        "## **Assess Situation (Menilai Situasi)**"
      ],
      "metadata": {
        "id": "8nRjTnrKzGJ_"
      }
    },
    {
      "cell_type": "markdown",
      "source": [
        "Situasi bisnis yang mendasari analisis ini adalah lingkungan e-commerce yang semakin kompetitif, khususnya dalam kategori monitor. Dengan berbagai merek dan spesifikasi yang tersedia, pelanggan memiliki banyak pilihan sebelum membeli. Oleh karena itu, penting bagi penjual untuk memahami pola pembelian pelanggan agar dapat menawarkan produk yang lebih relevan dan meningkatkan efisiensi pemasaran. Tren harga, ulasan, dan faktor lain juga menjadi aspek penting dalam memahami perilaku pembeli di platform Amazon."
      ],
      "metadata": {
        "id": "7pNLVOujzWU0"
      }
    },
    {
      "cell_type": "markdown",
      "source": [
        "## **Data Mining Goals (Tujuan Analitik)**"
      ],
      "metadata": {
        "id": "8ZR17LnazZez"
      }
    },
    {
      "cell_type": "markdown",
      "source": [
        "\n",
        "\n",
        "*   Menganalisis tren pembelian monitor berdasarkan harga, rating, dan jumlah ulasan.\n",
        "*   Mengidentifikasi merek atau kategori monitor yang paling diminati pelanggan.\n",
        "*   Menentukan hubungan antara variabel-variabel seperti harga, rating, dan jumlah ulasan terhadap keputusan pembelian.\n",
        "*   Memberikan wawasan bagi produsen dan penjual mengenai strategi yang dapat meningkatkan penjualan monitor di Amazon.\n",
        "\n",
        "\n",
        "\n"
      ],
      "metadata": {
        "id": "JBGEdWcz0pwR"
      }
    },
    {
      "cell_type": "markdown",
      "source": [
        "## **Project Plan (Perencanaan Proyek)**"
      ],
      "metadata": {
        "id": "0IXNvz-60-dv"
      }
    },
    {
      "cell_type": "markdown",
      "source": [
        "\n",
        "1.   Pengumpulan dan Pembersihan Data\n",
        "*   Mengumpulkan dataset transaksi pembelian monitor dari Amazon.\n",
        "*   Membersihkan data dari nilai yang hilang atau tidak valid.\n",
        "\n",
        "2.   Analisis Eksploratif (EDA)\n",
        "*   Membuat visualisasi tren harga, rating, dan jumlah ulasan\n",
        "*   Mengidentifikasi pola pembelian monitor\n",
        "\n",
        "3.   Modeling & Insights\n",
        "*   Menganalisis hubungan antar variabel dengan metode statistik.\n",
        "*   Memberikan rekomendasi strategi pemasaran berdasarkan hasil analisis\n",
        "\n",
        "\n",
        "4.   Dokumentasi & Presentasi\n",
        "*   Menyusun laporan hasil analisis.\n",
        "*   Menyajikan temuan dengan visualisasi yang jelas."
      ],
      "metadata": {
        "id": "Ts0eBpYj1V-j"
      }
    }
  ]
}
